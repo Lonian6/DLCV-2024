{
 "cells": [
  {
   "cell_type": "code",
   "execution_count": 1,
   "metadata": {},
   "outputs": [],
   "source": [
    "from P1_dataloader import P1_Dataset\n",
    "\n",
    "from typing import Dict, Tuple\n",
    "from tqdm import tqdm\n",
    "import torch\n",
    "import torch.nn as nn\n",
    "import torch.nn.functional as F\n",
    "from torch.utils.data import DataLoader\n",
    "from torchvision import models, transforms\n",
    "from torchvision.datasets import MNIST\n",
    "from torchvision.utils import save_image, make_grid\n",
    "import matplotlib.pyplot as plt\n",
    "from matplotlib.animation import FuncAnimation, PillowWriter\n",
    "import numpy as np\n",
    "from P1_model import *\n",
    "from glob import glob"
   ]
  },
  {
   "cell_type": "code",
   "execution_count": 2,
   "metadata": {},
   "outputs": [],
   "source": [
    "import torch\n",
    "import numpy as np\n",
    "import random\n",
    "\n",
    "# 設置random seed\n",
    "def set_seed(seed):\n",
    "    random.seed(seed)\n",
    "    np.random.seed(seed)\n",
    "    torch.manual_seed(seed)\n",
    "    \n",
    "    # 確保GPU上的隨機性也固定\n",
    "    if torch.cuda.is_available():\n",
    "        torch.cuda.manual_seed(seed)\n",
    "        torch.cuda.manual_seed_all(seed)  # 如果使用多個GPU\n",
    "        torch.backends.cudnn.deterministic = True  # 保證運算可重現\n",
    "        torch.backends.cudnn.benchmark = False\n",
    "\n",
    "set_seed(42)  # 固定隨機種子為42"
   ]
  },
  {
   "cell_type": "code",
   "execution_count": 3,
   "metadata": {},
   "outputs": [
    {
     "name": "stderr",
     "output_type": "stream",
     "text": [
      "/tmp/ipykernel_3126381/1640066420.py:3: FutureWarning: You are using `torch.load` with `weights_only=False` (the current default value), which uses the default pickle module implicitly. It is possible to construct malicious pickle data which will execute arbitrary code during unpickling (See https://github.com/pytorch/pytorch/blob/main/SECURITY.md#untrusted-models for more details). In a future release, the default value for `weights_only` will be flipped to `True`. This limits the functions that could be executed during unpickling. Arbitrary objects will no longer be allowed to be loaded via this mode unless they are explicitly allowlisted by the user via `torch.serialization.add_safe_globals`. We recommend you start setting `weights_only=True` for any use case where you don't have full control of the loaded file. Please open an issue on GitHub for any issues related to this experimental feature.\n",
      "  ddpm.load_state_dict(torch.load('./output/P1_v1/model_99.pt', map_location=\"cuda\"))\n"
     ]
    }
   ],
   "source": [
    "device = 'cuda:2'\n",
    "ddpm = DDPM(nn_model=ContextUnet(in_channels=3, n_feat=256, n_classes=12), betas=(1e-4, 0.02), n_T=500, device=device, drop_prob=0.1)\n",
    "ddpm.load_state_dict(torch.load('./output/P1_v1/model_99.pt', map_location=\"cuda\"))\n",
    "ddpm = ddpm.to(device)"
   ]
  },
  {
   "cell_type": "code",
   "execution_count": 8,
   "metadata": {},
   "outputs": [
    {
     "name": "stdout",
     "output_type": "stream",
     "text": [
      "sampling timestep 100\r"
     ]
    }
   ],
   "source": [
    "ddpm.eval()\n",
    "import os\n",
    "\n",
    "with torch.no_grad():\n",
    "    \n",
    "    row_list = [] \n",
    "    for iter_num in range(10):\n",
    "        x_gen, x_gen_store = ddpm.sample(c_1 = 0, n_sample=10, size=(3, 28, 28), device=device, guide_w=2)\n",
    "        \n",
    "        if iter_num == 0:\n",
    "            zero_store_0 = x_gen_store[:, 0]\n",
    "        \n",
    "        column_list = []  # 創建一個列表來保存要連接的列張量\n",
    "        \n",
    "        for i in range(10):\n",
    "            column_list.append(x_gen[i])  # 添加列張量到列表中\n",
    "        \n",
    "        column = torch.cat(column_list, dim=1)\n",
    "        row_list.append(column)\n",
    "        \n",
    "    rows = torch.cat(row_list, dim=2)\n",
    "\n",
    "    save_image(rows, 'result_0.png')\n",
    "    \n",
    "    row_list = [] \n",
    "    for iter_num in range(10):\n",
    "        x_gen, x_gen_store = ddpm.sample(c_1 = 1, n_sample=10, size=(3, 28, 28), device=device, guide_w=2)\n",
    "        \n",
    "        if iter_num == 0:\n",
    "            zero_store_1 = x_gen_store[:, 0]\n",
    "        \n",
    "        column_list = []  # 創建一個列表來保存要連接的列張量\n",
    "        \n",
    "        for i in range(10):\n",
    "            column_list.append(x_gen[i])  # 添加列張量到列表中\n",
    "        \n",
    "        column = torch.cat(column_list, dim=1)\n",
    "        row_list.append(column)\n",
    "        \n",
    "    rows = torch.cat(row_list, dim=2)\n",
    "\n",
    "    save_image(rows, 'result_1.png')"
   ]
  },
  {
   "cell_type": "code",
   "execution_count": 16,
   "metadata": {},
   "outputs": [],
   "source": [
    "zero_store_0.shape\n",
    "selected_idx = [0, 4, 9, 14, 19, 20, 21, 22, 23, 31]\n",
    "step = [0, 100, 200, 300, 400, 420, 440, 460, 480, 500]\n",
    "for idx in range(len(selected_idx)):\n",
    "    save_image(torch.Tensor(zero_store_0[selected_idx[idx]]), './results/P1_report/0_{:03d}.png'.format(step[idx]))\n",
    "    save_image(torch.Tensor(zero_store_1[selected_idx[idx]]), './results/P1_report/1_{:03d}.png'.format(step[idx]))"
   ]
  },
  {
   "cell_type": "code",
   "execution_count": null,
   "metadata": {},
   "outputs": [],
   "source": []
  }
 ],
 "metadata": {
  "kernelspec": {
   "display_name": "dlcv_hw2",
   "language": "python",
   "name": "python3"
  },
  "language_info": {
   "codemirror_mode": {
    "name": "ipython",
    "version": 3
   },
   "file_extension": ".py",
   "mimetype": "text/x-python",
   "name": "python",
   "nbconvert_exporter": "python",
   "pygments_lexer": "ipython3",
   "version": "3.8.5"
  }
 },
 "nbformat": 4,
 "nbformat_minor": 2
}
